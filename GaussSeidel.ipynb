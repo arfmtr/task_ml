{
 "cells": [
  {
   "cell_type": "code",
   "execution_count": null,
   "metadata": {},
   "outputs": [],
   "source": [
    "import numpy as np\n",
    "import sys\n",
    "\n",
    "f1 = lambda x,y,z: (-4-3*y+1*z)/4\n",
    "f2 = lambda x,y,z: (40+2*x-5*z)/-4\n",
    "f3 = lambda x,y,z: (14-1*x-2*y)/6\n",
    "\n",
    "x0 = 2\n",
    "y0 = -8\n",
    "z0 = 2\n",
    "step = 1\n",
    "\n",
    "e = float(input('Input Toleransi Error: '))\n",
    "print('\\nStep\\tx\\ty\\tz\\n')\n",
    "\n",
    "condition = True\n",
    "\n",
    "while condition:\n",
    "  x1 = f1(x0,y0,z0)\n",
    "  y1 = f2(x1,y0,z0)\n",
    "  z1 = f3(x1,y1,z0)\n",
    "  print('%d\\t%0.4f\\t%0.4f\\t%0.4f\\n' %(step, x1,y1,z1))\n",
    "  e1 = abs(x0-x1);\n",
    "  e2 = abs(y0-y1);\n",
    "  e3 = abs(z0-z1);\n",
    "\n",
    "  step += 1\n",
    "  x0 = x1\n",
    "  y0 = y1\n",
    "  z0 = z1\n",
    "\n",
    "  condition = e1>e and e2>e and e3>e\n",
    "print('\\nSolusi: x=%0.4f, y=%0.4f and z = %0.4f\\n' % (x1,y1,z1))"
   ]
  }
 ],
 "metadata": {
  "language_info": {
   "name": "python"
  },
  "orig_nbformat": 4
 },
 "nbformat": 4,
 "nbformat_minor": 2
}
