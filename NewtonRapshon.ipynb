{
 "cells": [
  {
   "cell_type": "code",
   "execution_count": null,
   "metadata": {},
   "outputs": [],
   "source": [
    "import numpy as np\n",
    "import matplotlib.pyplot as plt\n",
    "from math import e\n",
    "\n",
    "def f(x):\n",
    "  return (e**(2*x))-8*x**2\n",
    "\n",
    "def Df(x):\n",
    "  return 2*(e**(2*x))-16*x\n",
    "\n",
    "def newtonRaphson(x0,eps):\n",
    "  step = 0\n",
    "  print('\\n\\n*** -- METODE NEWTON RAPHSON--- ***')\n",
    "  xn = x0\n",
    "  for n in range(0,100):\n",
    "    fxn=f(xn)\n",
    "    if abs(fxn) <eps:\n",
    "      print('\\n Akar Persamaan tersebut: %0.8f' %xn)\n",
    "      return xn\n",
    "    Dfxn=Df(xn)\n",
    "    if Dfxn == 0:\n",
    "      print('Solusi tidak ditemukan')\n",
    "      return None\n",
    "    xn=xn-(fxn/Dfxn)\n",
    "    step = step + 1\n",
    "    print('Iterasi-%d, x = %0.8f dan f(x) = %0.8f' % (step, xn, f(xn)))\n",
    "  print('Iterasi maksimum, solusi tidak ditemukan')\n",
    "\n",
    "x0 = float(input('x0: '))\n",
    "eps = float(input('epsilon: '))\n",
    "newtonRaphson(x0,eps)\n"
   ]
  }
 ],
 "metadata": {
  "language_info": {
   "name": "python"
  },
  "orig_nbformat": 4
 },
 "nbformat": 4,
 "nbformat_minor": 2
}
