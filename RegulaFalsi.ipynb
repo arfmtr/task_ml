{
 "cells": [
  {
   "cell_type": "code",
   "execution_count": null,
   "metadata": {},
   "outputs": [],
   "source": [
    "import numpy as np\n",
    "import matplotlib.pyplot as plt\n",
    "from math import e\n",
    "#MENDEFINISIKAN FUNGSI\n",
    "def f(x):\n",
    "  return (e**(2*x))-8*x**2\n",
    "\n",
    "#SESI INPUT NILAI AWAL YANG DI KONVERSI KE PECAHAN\n",
    "x0 = float(input('x0 : '))\n",
    "x1 = float(input('x1 : '))\n",
    "eps = float(input('epsilon : '))\n",
    "\n",
    "#METODE REGULAFALSI\n",
    "def regulafalse(x0,x1,eps):\n",
    "    step = 1\n",
    "    print('\\n\\n*** --Metode Regulafalsi-- ***')\n",
    "    condition = True\n",
    "    while condition:\n",
    "        x2 = x1-(f(x1)*(x1-x0)/(f(x1)-f(x0)))\n",
    "        print('Iterasi-%d, x2 = %0.6f dan f(x2) = %0.6f' % (step, x2, f(x2)))\n",
    "        if f(x0) * f(x2) < 0:\n",
    "            x1 = x2\n",
    "        else:\n",
    "          x0 = x2\n",
    "        step = step + 1 \n",
    "        condition = abs(f(x2)) > eps\n",
    "        \n",
    "    print('\\n Akar Persamaan tersebut : %0.8f' % x2)\n",
    "\n",
    "#MENGGAMBAR FUNGSI\n",
    "rr = np.linspace(0, 2, 100)#NILAI TEBAKAN AWAL\n",
    "plt.plot(rr, f(rr))\n",
    "plt.show()\n",
    "plt.savefig(\"fungsi.png\")#MENYIMPAN GAMBAR\n",
    "\n",
    "#PENGECEKAN NILAI AWAL\n",
    "if f(x0) * f(x1) > 0.0:\n",
    "  print('Nilai yang di prediksi tidak mengurung akar')\n",
    "  print('Silahkan mencoba ulang nilai prediksi baru')\n",
    "else:\n",
    "  regulafalse(x0,x1,eps)"
   ]
  }
 ],
 "metadata": {
  "language_info": {
   "name": "python"
  },
  "orig_nbformat": 4
 },
 "nbformat": 4,
 "nbformat_minor": 2
}
