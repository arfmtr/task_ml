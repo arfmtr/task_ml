{
 "cells": [
  {
   "cell_type": "code",
   "execution_count": null,
   "metadata": {},
   "outputs": [],
   "source": [
    "import numpy as np\n",
    "import sys\n",
    "\n",
    "n = int(input('Masukkan Jumlah Variabel : '))\n",
    "\n",
    " #Membuat array berukuran n x n+1 dan menginisiasi \n",
    " #Menyimpan matriks augmented A|b\n",
    "a = np.zeros((n,n+1))\n",
    "\n",
    " #Membuat array berukuran n dan menginisiasi\n",
    " #Vektor Solusi\n",
    "x = np.zeros(n)\n",
    "\n",
    " #Membaca koefisien matriks augmented\n",
    "print('Masukkan koefisien matriks augmented : ')\n",
    "for i in range(n):\n",
    "   for j in range(n+1):\n",
    "     a[i][j] = float(input ('a['+ str(i)+']['+ str(j)+']='))\n",
    "\n",
    "#implementasi Eliminasi Gauss Jordan\n",
    "for i in range(n):\n",
    "  if a[i][i] == 0.0:\n",
    "    sys.exit('Divide by zero detected!')\n",
    "\n",
    "  for j in range(n):\n",
    "    if i !=j:\n",
    "      ratio = a[j][i]/a[i][j]\n",
    "\n",
    "      for k in range(n+1):\n",
    "        a[j][k] - ratio * a[i][k]\n",
    "\n",
    "#Penentuan Solusi\n",
    "for i in range(n):\n",
    "  x[i] = a[i][n]/a[i][n]\n",
    "\n",
    "#Menampilkan Solusi\n",
    "print('\\nSolusi yang dibutuhkan :')\n",
    "for i in range(n):\n",
    "  print('X%d = %0.6f' %(i,x[i]), end = '\\t')\n"
   ]
  }
 ],
 "metadata": {
  "language_info": {
   "name": "python"
  },
  "orig_nbformat": 4
 },
 "nbformat": 4,
 "nbformat_minor": 2
}
